{
 "cells": [
  {
   "cell_type": "markdown",
   "metadata": {},
   "source": [
    "# Fundamentus web scraping"
   ]
  },
  {
   "cell_type": "markdown",
   "metadata": {},
   "source": [
    "Dividends web scrapping from the fundamentus website.\n",
    "https://www.fundamentus.com.br/"
   ]
  },
  {
   "cell_type": "code",
   "execution_count": null,
   "metadata": {
    "tags": []
   },
   "outputs": [],
   "source": [
    "# Installing modules.\n",
    "%pip install requests --quiet\n",
    "%pip install pandas --quiet\n",
    "%pip install beautifulsoup4 --quiet\n",
    "%pip install matplotlib --quiet"
   ]
  },
  {
   "cell_type": "code",
   "execution_count": null,
   "metadata": {},
   "outputs": [],
   "source": [
    "# Importing modules.\n",
    "import requests\n",
    "import pandas as pd\n",
    "from bs4 import BeautifulSoup\n",
    "import matplotlib.pyplot as plt"
   ]
  },
  {
   "cell_type": "code",
   "execution_count": null,
   "metadata": {},
   "outputs": [],
   "source": [
    "ticket = \"bbse3\"  # Write here the ticket's code.\n",
    "url_format = (\"https://www.fundamentus.com.br/proventos.php?tipo=2&papel={}\")\n",
    "url_format = url_format.format(ticket)"
   ]
  },
  {
   "cell_type": "code",
   "execution_count": null,
   "metadata": {},
   "outputs": [],
   "source": [
    "# Creating an empty dataframe. The definitely one.\n",
    "df = pd.DataFrame(columns=[\"DATA COM\", \"VALOR\", \"TIPO PROVENTO\", \"DATA PAGAMENTO\", \"QTD AÇÕES\"])"
   ]
  },
  {
   "cell_type": "code",
   "execution_count": null,
   "metadata": {},
   "outputs": [],
   "source": [
    "# Getting the web page content in text format.\n",
    "'''\n",
    "The User-Agent request header contains a characteristic string that allows the network protocol peers to identify the application type, operating\n",
    "system, software vendor or software version of the requesting software user agent.\n",
    "Validating User-Agent header on server side is a common operation so be sure to use valid browser’s User-Agent string to avoid getting blocked.\n",
    "Font: https://go-colly.org/articles/scraping_related_http_headers/\n",
    "Font: https://stackoverflow.com/questions/68259148/getting-404-error-for-certain-stocks-and-pages-on-yahoo-finance-python\n",
    "'''\n",
    "headers = {\n",
    "    \"User-Agent\": \"Mozilla/5.0 (Windows NT 10.0; Win64; x64)\" +\n",
    "    \" AppleWebKit/537.36 (KHTML, like Gecko)\" +\n",
    "    \"Chrome/71.0.3578.98 Safari/537.36\",\n",
    "    \"Accept\": \"text/html,application/xhtml+xml,application\" +\n",
    "    \"/xml;q=0.9,*/*;q=0.8\",\n",
    "    \"Accept-Language\": \"en-US,en;q=0.5\",\n",
    "    \"DNT\": \"1\",  # Do not track request header.\n",
    "    \"Connection\": \"close\"\n",
    "}\n",
    "\n",
    "soup = BeautifulSoup(requests.get(url_format,\n",
    "                                  headers=headers)  # , timeout=5)\n",
    "                     .text, \"html.parser\")\n",
    "\n",
    "# Looking for the web table.\n",
    "# In HTML, a table is represented by the tag <table>.\n",
    "webtable = soup.find(\"table\")"
   ]
  },
  {
   "cell_type": "code",
   "execution_count": null,
   "metadata": {},
   "outputs": [],
   "source": [
    "# If the ticket doesn't have a table.\n",
    "if webtable is None:\n",
    "    pass\n",
    "else:\n",
    "    # Getting all table rows.\n",
    "    # In HTML, a row table is represented by the tag <tr>.\n",
    "    for webtable_row in webtable.tbody.find_all(\"tr\"):\n",
    "        # Getting all table columns.\n",
    "        # In HTML, a column table is represented by the tag <td>.\n",
    "        webtable_column = webtable_row.find_all(\"td\")\n",
    "        if webtable_column:  # if webtable_columns != []:\n",
    "            data_com = webtable_column[0].text.strip(\" \")\n",
    "            valor = webtable_column[1].text.strip(\" \")\n",
    "            tipo_provento = webtable_column[2].text.strip(\" \")\n",
    "            data_pagamento = webtable_column[3].text.strip(\" \")\n",
    "            quantidade_acoes = webtable_column[4].text.strip(\" \")\n",
    "            df = pd.concat(\n",
    "                [df, pd.DataFrame.\n",
    "                 from_records([{\"DATA COM\": data_com,\n",
    "                                \"VALOR\": valor,\n",
    "                                \"TIPO PROVENTO\": tipo_provento,\n",
    "                                \"DATA PAGAMENTO\": data_pagamento,\n",
    "                                \"QTD AÇÕES\": quantidade_acoes\n",
    "                                }]\n",
    "                              )], ignore_index=True)"
   ]
  },
  {
   "cell_type": "code",
   "execution_count": null,
   "metadata": {},
   "outputs": [],
   "source": [
    "# -*- Working on dataframe -*-\n",
    "# Removing rows without payment date.\n",
    "df = df[df[\"DATA PAGAMENTO\"] != \"-\"]\n",
    "\n",
    "# Com date to date format.\n",
    "df[\"DATA COM\"] = pd.to_datetime(df[\"DATA COM\"], format=\"%d/%m/%Y\", errors=\"ignore\")\n",
    "\n",
    "# Payment date to date format.\n",
    "df[\"DATA PAGAMENTO\"] = pd.to_datetime(df[\"DATA PAGAMENTO\"], format=\"%d/%m/%Y\", errors=\"coerce\")\n",
    "\n",
    "# Payment per number of shares.\n",
    "df = df.astype({\"QTD AÇÕES\": int})\n",
    "\n",
    "# Value to decimal format.\n",
    "df[\"VALOR\"] = [x.replace(\".\", \"\") for x in df[\"VALOR\"]]\n",
    "df[\"VALOR\"] = [x.replace(\",\", \".\") for x in df[\"VALOR\"]]\n",
    "df = df.astype({\"VALOR\": float})\n",
    "df[\"VALOR\"] = df[\"VALOR\"]/df[\"QTD AÇÕES\"]\n",
    "\n",
    "# Dividend type using upper case style.\n",
    "df[\"TIPO PROVENTO\"] = df[\"TIPO PROVENTO\"].str.upper()\n",
    "\n",
    "# Including the ticket on the dataframe.\n",
    "df[\"ticket\"] = str.upper(ticket)\n",
    "\n",
    "# Reorder dataframe.\n",
    "df = df[[\"ticket\", \"DATA COM\", \"DATA PAGAMENTO\", \"VALOR\", \"TIPO PROVENTO\"]]\n",
    "\n",
    "df"
   ]
  },
  {
   "cell_type": "code",
   "execution_count": null,
   "metadata": {},
   "outputs": [],
   "source": [
    "# -*- Graphics -*-\n",
    "# Dividends paied per ticket.\n",
    "plt.title(\"PROVENTOS RECEBIDOS POR \" + str.upper(ticket))\n",
    "plt.plot(df[\"DATA PAGAMENTO\"], df[\"VALOR\"], label=str.upper(ticket))\n",
    "plt.ylabel(\"VALOR (R$)\")\n",
    "plt.xlabel(\"ANO\")\n",
    "# plt.legend()\n",
    "plt.show()"
   ]
  },
  {
   "cell_type": "code",
   "execution_count": null,
   "metadata": {},
   "outputs": [],
   "source": [
    "# Dividends paied per year per ticket.\n",
    "df_anual = df.set_index('DATA PAGAMENTO')\n",
    "dividendos = (df_anual['VALOR']).resample('Y').sum()\n",
    "plt.plot(dividendos.index.year[:-1], dividendos[:-1],\n",
    "         label=str.upper(ticket))\n",
    "plt.title(\"PROVENTOS ANUAIS RECEBIDOS POR \" + str.upper(ticket))\n",
    "plt.ylabel(\"VALOR (R$)\")\n",
    "plt.xlabel(\"ANO\")\n",
    "# plt.legend()\n",
    "plt.show()"
   ]
  },
  {
   "cell_type": "code",
   "execution_count": null,
   "metadata": {},
   "outputs": [],
   "source": [
    "# Exporting as CSV.\n",
    "df.to_csv(\"PROVENTOS \" + str.upper(ticker) + \".csv\", index=False, sep=\";\", encoding=\"UTF-8\")"
   ]
  },
  {
   "cell_type": "code",
   "execution_count": null,
   "metadata": {},
   "outputs": [],
   "source": []
  }
 ],
 "metadata": {
  "interpreter": {
   "hash": "ac59ebe37160ed0dfa835113d9b8498d9f09ceb179beaac4002f036b9467c963"
  },
  "kernelspec": {
   "display_name": "Python 3 (Spyder)",
   "language": "python3",
   "name": "python3"
  },
  "language_info": {
   "codemirror_mode": {
    "name": "ipython",
    "version": 3
   },
   "file_extension": ".py",
   "mimetype": "text/x-python",
   "name": "python",
   "nbconvert_exporter": "python",
   "pygments_lexer": "ipython3",
   "version": "3.12.0"
  }
 },
 "nbformat": 4,
 "nbformat_minor": 4
}
